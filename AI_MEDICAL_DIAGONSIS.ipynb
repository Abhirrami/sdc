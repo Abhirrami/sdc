{
  "nbformat": 4,
  "nbformat_minor": 0,
  "metadata": {
    "colab": {
      "provenance": [],
      "authorship_tag": "ABX9TyOL29WySOOoe3eTYRte0jT1",
      "include_colab_link": true
    },
    "kernelspec": {
      "name": "python3",
      "display_name": "Python 3"
    },
    "language_info": {
      "name": "python"
    }
  },
  "cells": [
    {
      "cell_type": "markdown",
      "metadata": {
        "id": "view-in-github",
        "colab_type": "text"
      },
      "source": [
        "<a href=\"https://colab.research.google.com/github/Abhirrami/sdc/blob/main/AI_MEDICAL_DIAGONSIS.ipynb\" target=\"_parent\"><img src=\"https://colab.research.google.com/assets/colab-badge.svg\" alt=\"Open In Colab\"/></a>"
      ]
    },
    {
      "cell_type": "code",
      "execution_count": null,
      "metadata": {
        "id": "Ht6KIT_7Wg4N"
      },
      "outputs": [],
      "source": [
        "!pip install -q transformers gradio\n",
        "from transformers import pipeline\n",
        "import gradio as gr\n",
        "\n",
        "# Load a general-purpose QA model (can be replaced with a biomedical one like 'emilyalsentzer/Bio_ClinicalBERT' if needed)\n",
        "symptom_pipeline = pipeline(\"question-answering\", model=\"deepset/roberta-base-squad2\")\n",
        "\n",
        "# Medical condition mapping (simplified)\n",
        "conditions_db = {\n",
        "    \"fever, cough, sore throat\": (\"Flu (Influenza)\", \"A contagious respiratory illness caused by influenza viruses.\"),\n",
        "    \"runny nose, sneezing, congestion\": (\"Common Cold\", \"A mild viral infection of the nose and throat.\"),\n",
        "    \"fever, fatigue, dry cough\": (\"COVID-19\", \"A viral respiratory infection caused by SARS-CoV-2.\"),\n",
        "    \"headache, nausea, sensitivity to light\": (\"Migraine\", \"A type of headache that can cause severe throbbing pain.\"),\n",
        "    \"chest pain, shortness of breath, sweating\": (\"Heart Attack\", \"A serious condition where the blood supply to the heart is blocked.\"),\n",
        "}\n",
        "\n",
        "# Function to analyze symptoms\n",
        "def analyze_symptoms(user_input):\n",
        "    user_input_lower = user_input.lower()\n",
        "\n",
        "    # Match symptoms with known conditions (simplified logic)\n",
        "    for symptoms, (condition, description) in conditions_db.items():\n",
        "        match_count = sum([1 for sym in symptoms.split(', ') if sym in user_input_lower])\n",
        "        if match_count >= 2:  # loose match if at least 2 symptoms match\n",
        "            return f\"🔍 Possible Condition: {condition}\\n\\n📝 Description: {description}\\n\\n⚠️ This is not a medical diagnosis. Please consult a healthcare professional.\"\n",
        "\n",
        "    return \"❗ Unable to determine a condition based on the symptoms provided.\\n\\nPlease rephrase or consult a healthcare provider.\"\n",
        "\n",
        "# Gradio interface\n",
        "gr.Interface(\n",
        "    fn=analyze_symptoms,\n",
        "    inputs=gr.Textbox(lines=4, placeholder=\"Describe your symptoms...\"),\n",
        "    outputs=\"text\",\n",
        "    title=\"🩺 AI Medical Symptom Checker\",\n",
        "    description=\"Enter your symptoms to get a possible diagnosis (for informational purposes only).\"\n",
        ").launch()\n"
      ]
    }
  ]
}