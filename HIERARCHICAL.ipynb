{
  "nbformat": 4,
  "nbformat_minor": 0,
  "metadata": {
    "colab": {
      "provenance": [],
      "authorship_tag": "ABX9TyOAs4krs5m4TKe41lJ/MXNW",
      "include_colab_link": true
    },
    "kernelspec": {
      "name": "python3",
      "display_name": "Python 3"
    },
    "language_info": {
      "name": "python"
    }
  },
  "cells": [
    {
      "cell_type": "markdown",
      "metadata": {
        "id": "view-in-github",
        "colab_type": "text"
      },
      "source": [
        "<a href=\"https://colab.research.google.com/github/Abhirrami/sdc/blob/main/HIERARCHICAL.ipynb\" target=\"_parent\"><img src=\"https://colab.research.google.com/assets/colab-badge.svg\" alt=\"Open In Colab\"/></a>"
      ]
    },
    {
      "cell_type": "code",
      "execution_count": null,
      "metadata": {
        "id": "4DigTaQITqDB"
      },
      "outputs": [],
      "source": [
        "import gradio as gr\n",
        "\n",
        "def greet(name, is_morning, temperature):\n",
        "  salutation = \"Good morning\" if is_morning else \"Good evening\"\n",
        "  greeting = f\"{salutation} {name}. It is {temperature} degrees today\"\n",
        "  celsius = (temperature - 32) * 5 / 9\n",
        "  return greeting, round(celsius, 2)\n",
        "\n",
        "demo = gr.Interface(\n",
        "    fn=greet,\n",
        "    inputs=[\n",
        "        gr.Textbox(label=\"Name\"),\n",
        "        gr.Checkbox(label=\"Is it morning?\", value=True),\n",
        "        gr.Slider(minimum=0, maximum=100, value=25, label=\"Temperature (Fahrenheit)\")\n",
        "    ],\n",
        "    outputs=[\n",
        "        gr.Textbox(label=\"Greeting\"),\n",
        "        gr.Number(label=\"Temperature (Celsius)\")\n",
        "    ],\n",
        "    title=\"Hierarchical Example\",\n",
        "    description=\"This is an example of an interface with hierarchical structure\"\n",
        ")\n",
        "\n",
        "demo.launch()\n"
      ]
    }
  ]
}