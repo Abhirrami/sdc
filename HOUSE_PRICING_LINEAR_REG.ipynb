{
  "nbformat": 4,
  "nbformat_minor": 0,
  "metadata": {
    "colab": {
      "provenance": [],
      "authorship_tag": "ABX9TyNECgvPoB0O55P+UEQg8by7",
      "include_colab_link": true
    },
    "kernelspec": {
      "name": "python3",
      "display_name": "Python 3"
    },
    "language_info": {
      "name": "python"
    }
  },
  "cells": [
    {
      "cell_type": "markdown",
      "metadata": {
        "id": "view-in-github",
        "colab_type": "text"
      },
      "source": [
        "<a href=\"https://colab.research.google.com/github/Abhirrami/sdc/blob/main/HOUSE_PRICING_LINEAR_REG.ipynb\" target=\"_parent\"><img src=\"https://colab.research.google.com/assets/colab-badge.svg\" alt=\"Open In Colab\"/></a>"
      ]
    },
    {
      "cell_type": "code",
      "execution_count": null,
      "metadata": {
        "id": "5_QFKxTRW4kC"
      },
      "outputs": [],
      "source": [
        "# Install required libraries\n",
        "!pip install -q scikit-learn gradio\n",
        "\n",
        "import gradio as gr\n",
        "from sklearn.linear_model import LinearRegression\n",
        "import numpy as np\n",
        "\n",
        "# --- Training Sample Data (Synthetic) ---\n",
        "# [Bedrooms, Bathrooms, Square Footage, House Age]\n",
        "X = np.array([\n",
        "    [2, 1, 800, 20],\n",
        "    [3, 2, 1200, 10],\n",
        "    [4, 3, 1600, 5],\n",
        "    [3, 1, 1000, 15],\n",
        "    [5, 4, 2500, 2],\n",
        "    [2, 1, 750, 30]\n",
        "])\n",
        "\n",
        "# Prices in $1000s\n",
        "y = np.array([150, 250, 350, 200, 500, 130])\n",
        "\n",
        "# Train the model\n",
        "model = LinearRegression()\n",
        "model.fit(X, y)\n",
        "\n",
        "# --- Prediction Function ---\n",
        "def predict_price(bedrooms, bathrooms, sqft, age):\n",
        "    input_data = np.array([[bedrooms, bathrooms, sqft, age]])\n",
        "    predicted_price = model.predict(input_data)[0]\n",
        "    return f\"Estimated Price: ${predicted_price:.2f}K\"\n",
        "\n",
        "# --- Gradio UI ---\n",
        "inputs = [\n",
        "    gr.Number(label=\"Bedrooms\", value=3),\n",
        "    gr.Number(label=\"Bathrooms\", value=2),\n",
        "    gr.Number(label=\"Square Footage\", value=1200),\n",
        "    gr.Number(label=\"House Age (years)\", value=10)\n",
        "]\n",
        "\n",
        "gr.Interface(\n",
        "    fn=predict_price,\n",
        "    inputs=inputs,\n",
        "    outputs=\"text\",\n",
        "    title=\"🏡 Housing Price Predictor (Linear Regression)\",\n",
        "    description=\"Enter details about the house to get an estimated price using Linear Regression.\"\n",
        ").launch()\n"
      ]
    }
  ]
}