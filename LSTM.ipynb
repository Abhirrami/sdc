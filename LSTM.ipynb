{
  "nbformat": 4,
  "nbformat_minor": 0,
  "metadata": {
    "colab": {
      "provenance": [],
      "authorship_tag": "ABX9TyNskg8i/W0TSvps4TEa3ciP",
      "include_colab_link": true
    },
    "kernelspec": {
      "name": "python3",
      "display_name": "Python 3"
    },
    "language_info": {
      "name": "python"
    }
  },
  "cells": [
    {
      "cell_type": "markdown",
      "metadata": {
        "id": "view-in-github",
        "colab_type": "text"
      },
      "source": [
        "<a href=\"https://colab.research.google.com/github/Abhirrami/sdc/blob/main/LSTM.ipynb\" target=\"_parent\"><img src=\"https://colab.research.google.com/assets/colab-badge.svg\" alt=\"Open In Colab\"/></a>"
      ]
    },
    {
      "cell_type": "code",
      "execution_count": null,
      "metadata": {
        "id": "AYvLiFmySv1V"
      },
      "outputs": [],
      "source": [
        "# Install dependencies\n",
        "!pip install -q tensorflow gradio\n",
        "\n",
        "# Imports\n",
        "import tensorflow as tf\n",
        "from tensorflow.keras.datasets import imdb\n",
        "from tensorflow.keras.preprocessing.sequence import pad_sequences\n",
        "from tensorflow.keras.models import Sequential\n",
        "from tensorflow.keras.layers import Embedding, LSTM, Dense\n",
        "import gradio as gr\n",
        "\n",
        "# Constants\n",
        "VOCAB_SIZE = 10000\n",
        "MAX_LEN = 200\n",
        "\n",
        "# Load dataset\n",
        "(x_train, y_train), (x_test, y_test) = imdb.load_data(num_words=VOCAB_SIZE)\n",
        "x_train = pad_sequences(x_train, maxlen=MAX_LEN)\n",
        "x_test = pad_sequences(x_test, maxlen=MAX_LEN)\n",
        "\n",
        "# Build LSTM model\n",
        "model = Sequential([\n",
        "    Embedding(VOCAB_SIZE, 64, input_length=MAX_LEN),\n",
        "    LSTM(64),\n",
        "    Dense(1, activation='sigmoid')\n",
        "])\n",
        "\n",
        "# Compile and train\n",
        "model.compile(loss='binary_crossentropy', optimizer='adam', metrics=['accuracy'])\n",
        "model.fit(x_train, y_train, epochs=2, batch_size=128, validation_split=0.2)\n",
        "\n",
        "# Word index for encoding custom input\n",
        "word_index = imdb.get_word_index()\n",
        "word_index = {k: (v + 3) for k, v in word_index.items()}\n",
        "word_index[\"<PAD>\"] = 0\n",
        "word_index[\"<START>\"] = 1\n",
        "word_index[\"<UNK>\"] = 2\n",
        "word_index[\"<UNUSED>\"] = 3\n",
        "\n",
        "def encode_text(text):\n",
        "    tokens = text.lower().split()\n",
        "    encoded = [1]  # <START> token\n",
        "    for word in tokens:\n",
        "        encoded.append(word_index.get(word, 2))  # 2 is <UNK>\n",
        "    return pad_sequences([encoded], maxlen=MAX_LEN)\n",
        "\n",
        "# Gradio function\n",
        "def predict_sentiment(text):\n",
        "    encoded = encode_text(text)\n",
        "    prediction = model.predict(encoded)[0][0]\n",
        "    label = \"Positive 😊\" if prediction > 0.5 else \"Negative 😞\"\n",
        "    return f\"{label} (Confidence: {prediction * 100:.2f}%)\"\n",
        "\n",
        "# Gradio interface\n",
        "gr.Interface(\n",
        "    fn=predict_sentiment,\n",
        "    inputs=gr.Textbox(lines=4, placeholder=\"Type a movie review here...\"),\n",
        "    outputs=\"text\",\n",
        "    title=\"LSTM Sentiment Analyzer\",\n",
        "    description=\"Enter a movie review and get a sentiment prediction using LSTM.\"\n",
        ").launch()\n"
      ]
    }
  ]
}