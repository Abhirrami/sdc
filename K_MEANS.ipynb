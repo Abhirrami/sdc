{
  "nbformat": 4,
  "nbformat_minor": 0,
  "metadata": {
    "colab": {
      "provenance": [],
      "authorship_tag": "ABX9TyOGd2XSBPzdtw7vmCe437Wo",
      "include_colab_link": true
    },
    "kernelspec": {
      "name": "python3",
      "display_name": "Python 3"
    },
    "language_info": {
      "name": "python"
    }
  },
  "cells": [
    {
      "cell_type": "markdown",
      "metadata": {
        "id": "view-in-github",
        "colab_type": "text"
      },
      "source": [
        "<a href=\"https://colab.research.google.com/github/Abhirrami/sdc/blob/main/K_MEANS.ipynb\" target=\"_parent\"><img src=\"https://colab.research.google.com/assets/colab-badge.svg\" alt=\"Open In Colab\"/></a>"
      ]
    },
    {
      "cell_type": "code",
      "execution_count": null,
      "metadata": {
        "id": "g8-9FHVfTdy1"
      },
      "outputs": [],
      "source": [
        "!pip install gradio # Install gradio library\n",
        "import numpy as np\n",
        "import matplotlib.pyplot as plt\n",
        "from sklearn.cluster import KMeans\n",
        "from sklearn.datasets import make_blobs\n",
        "import gradio as gr #Now we can import gradio\n",
        "\n",
        "# Generate sample data\n",
        "X, _ = make_blobs(n_samples=300, centers=4, cluster_std=1.05, random_state=42)\n",
        "\n",
        "def kmeans_clustering(n_clusters):\n",
        "    # Apply K-Means clustering\n",
        "    kmeans = KMeans(n_clusters=n_clusters, random_state=42, n_init=10)\n",
        "    kmeans.fit(X)\n",
        "    labels = kmeans.labels_\n",
        "    centroids = kmeans.cluster_centers_\n",
        "\n",
        "    # Plot the results\n",
        "    plt.figure(figsize=(8, 6))\n",
        "    plt.scatter(X[:, 0], X[:, 1], c=labels, cmap='viridis', alpha=0.6, edgecolors='k')\n",
        "    plt.scatter(centroids[:, 0], centroids[:, 1], c='red', marker='X', s=200, label='Centroids')\n",
        "    plt.title(f'K-Means Clustering (K={n_clusters})')\n",
        "    plt.xlabel('Feature 1')\n",
        "    plt.ylabel('Feature 2')\n",
        "    plt.legend()\n",
        "\n",
        "    # Save and return the plot\n",
        "    plt.savefig(\"plot.png\")\n",
        "    plt.close()\n",
        "    return \"plot.png\"\n",
        "\n",
        "# Gradio Interface\n",
        "interface = gr.Interface(\n",
        "    fn=kmeans_clustering,\n",
        "    inputs=gr.Slider(minimum=1, maximum=10, step=1, value=4, label=\"Number of Clusters (K)\"),\n",
        "    outputs=\"image\",\n",
        "    title=\"K-Means Clustering Visualization\",\n",
        "    description=\"Adjust the slider to change the number of clusters and visualize K-Means results.\"\n",
        ")\n",
        "\n",
        "interface.launch()"
      ]
    }
  ]
}