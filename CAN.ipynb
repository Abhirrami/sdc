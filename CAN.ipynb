{
  "nbformat": 4,
  "nbformat_minor": 0,
  "metadata": {
    "colab": {
      "provenance": [],
      "authorship_tag": "ABX9TyMsDFvn8Zb5k/8sTG5Wwe0N",
      "include_colab_link": true
    },
    "kernelspec": {
      "name": "python3",
      "display_name": "Python 3"
    },
    "language_info": {
      "name": "python"
    }
  },
  "cells": [
    {
      "cell_type": "markdown",
      "metadata": {
        "id": "view-in-github",
        "colab_type": "text"
      },
      "source": [
        "<a href=\"https://colab.research.google.com/github/Abhirrami/sdc/blob/main/CAN.ipynb\" target=\"_parent\"><img src=\"https://colab.research.google.com/assets/colab-badge.svg\" alt=\"Open In Colab\"/></a>"
      ]
    },
    {
      "cell_type": "code",
      "execution_count": null,
      "metadata": {
        "id": "r10PX6LNS7z5"
      },
      "outputs": [],
      "source": [
        "# Install dependencies\n",
        "!pip install -q gradio tensorflow nltk\n",
        "\n",
        "import tensorflow as tf\n",
        "from tensorflow.keras.layers import Input, Embedding, LSTM, Dense, Bidirectional, Layer\n",
        "from tensorflow.keras.models import Model\n",
        "from tensorflow.keras.preprocessing.text import Tokenizer\n",
        "from tensorflow.keras.preprocessing.sequence import pad_sequences\n",
        "import numpy as np\n",
        "import gradio as gr\n",
        "import nltk\n",
        "\n",
        "nltk.download(\"punkt\")\n",
        "\n",
        "# Sample training data\n",
        "texts = [\n",
        "    \"AI is transforming the technology industry\",\n",
        "    \"The economy is facing inflation pressures\",\n",
        "    \"The team won the championship this year\",\n",
        "    \"Google introduces new hardware products\",\n",
        "    \"Government introduces new tax reform\",\n",
        "    \"The player scored a record number of goals\"\n",
        "]\n",
        "labels = [\"tech\", \"business\", \"sports\", \"tech\", \"politics\", \"sports\"]\n",
        "label_map = {label: idx for idx, label in enumerate(set(labels))}\n",
        "reverse_label_map = {idx: label for label, idx in label_map.items()}\n",
        "y = np.array([label_map[label] for label in labels])\n",
        "\n",
        "# Tokenize\n",
        "tokenizer = Tokenizer()\n",
        "tokenizer.fit_on_texts(texts)\n",
        "sequences = tokenizer.texts_to_sequences(texts)\n",
        "maxlen = max(len(seq) for seq in sequences)\n",
        "vocab_size = len(tokenizer.word_index) + 1\n",
        "X = pad_sequences(sequences, maxlen=maxlen)\n",
        "\n",
        "# Simple attention layer\n",
        "class Attention(Layer):\n",
        "    def __init__(self):\n",
        "        super(Attention, self).__init__()\n",
        "\n",
        "    def build(self, input_shape):\n",
        "        self.W = self.add_weight(name=\"att_weight\", shape=(input_shape[-1], 1),\n",
        "                                 initializer=\"random_normal\", trainable=True)\n",
        "        self.b = self.add_weight(name=\"att_bias\", shape=(input_shape[1], 1),\n",
        "                                 initializer=\"zeros\", trainable=True)\n",
        "        super().build(input_shape)\n",
        "\n",
        "    def call(self, x):\n",
        "        e = tf.keras.backend.tanh(tf.keras.backend.dot(x, self.W) + self.b)\n",
        "        a = tf.keras.backend.softmax(e, axis=1)\n",
        "        output = x * a\n",
        "        return tf.keras.backend.sum(output, axis=1)\n",
        "\n",
        "# Build model\n",
        "input_layer = Input(shape=(maxlen,))\n",
        "embedding_layer = Embedding(vocab_size, 64)(input_layer)\n",
        "lstm_layer = Bidirectional(LSTM(64, return_sequences=True))(embedding_layer)\n",
        "attention_layer = Attention()(lstm_layer)\n",
        "output_layer = Dense(len(label_map), activation='softmax')(attention_layer)\n",
        "\n",
        "model = Model(inputs=input_layer, outputs=output_layer)\n",
        "model.compile(loss=\"sparse_categorical_crossentropy\", optimizer=\"adam\", metrics=[\"accuracy\"])\n",
        "\n",
        "# Train model\n",
        "model.fit(X, y, epochs=10, verbose=1)\n",
        "\n",
        "# Inference function\n",
        "def classify_news(text):\n",
        "    seq = tokenizer.texts_to_sequences([text])\n",
        "    padded = pad_sequences(seq, maxlen=maxlen)\n",
        "    prediction = model.predict(padded)[0]\n",
        "    predicted_label = reverse_label_map[np.argmax(prediction)]\n",
        "    confidence = np.max(prediction) * 100\n",
        "    return f\"Predicted Category: {predicted_label.capitalize()} ({confidence:.2f}%)\"\n",
        "\n",
        "# Gradio UI\n",
        "gr.Interface(\n",
        "    fn=classify_news,\n",
        "    inputs=gr.Textbox(lines=3, placeholder=\"Enter a news headline here...\"),\n",
        "    outputs=\"text\",\n",
        "    title=\"🧠 (CAN) News Category Classifier with Attention\",\n",
        "    description=\"Enter a news headline, and the model will classify it into a category like tech, politics, business, or sports using LSTM with attention.\"\n",
        ").launch()\n"
      ]
    }
  ]
}