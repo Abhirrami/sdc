{
  "nbformat": 4,
  "nbformat_minor": 0,
  "metadata": {
    "colab": {
      "provenance": [],
      "authorship_tag": "ABX9TyOQMpjgRSc3ZlkCPPnFQj44",
      "include_colab_link": true
    },
    "kernelspec": {
      "name": "python3",
      "display_name": "Python 3"
    },
    "language_info": {
      "name": "python"
    }
  },
  "cells": [
    {
      "cell_type": "markdown",
      "metadata": {
        "id": "view-in-github",
        "colab_type": "text"
      },
      "source": [
        "<a href=\"https://colab.research.google.com/github/Abhirrami/sdc/blob/main/LOGISTIC_REG.ipynb\" target=\"_parent\"><img src=\"https://colab.research.google.com/assets/colab-badge.svg\" alt=\"Open In Colab\"/></a>"
      ]
    },
    {
      "cell_type": "code",
      "execution_count": null,
      "metadata": {
        "id": "6gMh7TW1RN_F"
      },
      "outputs": [],
      "source": [
        "# Step 1: Import libraries\n",
        "import numpy as np\n",
        "from sklearn.linear_model import LogisticRegression\n",
        "\n",
        "# Step 2: Sample data\n",
        "# X = Hours studied, y = 1 (Pass), 0 (Fail)\n",
        "X = np.array([[1], [2], [3], [4], [5], [6], [7], [8]])\n",
        "y = np.array([0, 0, 0, 0, 1, 1, 1, 1])\n",
        "\n",
        "# Step 3: Train the logistic regression model\n",
        "model = LogisticRegression()\n",
        "model.fit(X, y)\n",
        "\n",
        "# Step 4: Get user input\n",
        "try:\n",
        "    hours = float(input(\"Enter hours studied: \"))\n",
        "    result = model.predict([[hours]])\n",
        "    probability = model.predict_proba([[hours]])[0][1]  # Probability of passing\n",
        "    print(f\"\\n✅ Prediction: {'Pass' if result[0] == 1 else 'Fail'}\")\n",
        "    print(f\"📊 Confidence: {probability * 100:.2f}%\")\n",
        "except ValueError:\n",
        "    print(\"Please enter a valid number.\")\n"
      ]
    },
    {
      "cell_type": "code",
      "source": [
        "# Install required libraries\n",
        "!pip install -q scikit-learn gradio\n",
        "\n",
        "import gradio as gr\n",
        "from sklearn.linear_model import LogisticRegression\n",
        "import numpy as np\n",
        "\n",
        "# --- Sample Data ---\n",
        "# [Bedrooms, Bathrooms, Square Footage, House Age]\n",
        "X = np.array([\n",
        "    [2, 1, 800, 20],  # Low price\n",
        "    [3, 2, 1200, 10], # Medium price\n",
        "    [4, 3, 1600, 5],  # High price\n",
        "    [3, 1, 1000, 15], # Low price\n",
        "    [5, 4, 2500, 2],  # High price\n",
        "    [2, 1, 750, 30]   # Low price\n",
        "])\n",
        "\n",
        "# Categories (0 = Low, 1 = Medium, 2 = High)\n",
        "y = np.array([0, 1, 2, 0, 2, 0])  # Labeling prices as \"Low\", \"Medium\", \"High\"\n",
        "\n",
        "# Train the model (Logistic Regression for classification)\n",
        "model = LogisticRegression(multi_class='ovr', solver='liblinear')\n",
        "model.fit(X, y)\n",
        "\n",
        "# --- Prediction Function ---\n",
        "def predict_price_category(bedrooms, bathrooms, sqft, age):\n",
        "    input_data = np.array([[bedrooms, bathrooms, sqft, age]])\n",
        "    predicted_class = model.predict(input_data)[0]\n",
        "    class_map = {0: \"Low\", 1: \"Medium\", 2: \"High\"}\n",
        "    return f\"Predicted Price Category: {class_map[predicted_class]}\"\n",
        "\n",
        "# --- Gradio UI ---\n",
        "inputs = [\n",
        "    gr.Number(label=\"Bedrooms\", value=3),\n",
        "    gr.Number(label=\"Bathrooms\", value=2),\n",
        "    gr.Number(label=\"Square Footage\", value=1200),\n",
        "    gr.Number(label=\"House Age (years)\", value=10)\n",
        "]\n",
        "\n",
        "gr.Interface(\n",
        "    fn=predict_price_category,\n",
        "    inputs=inputs,\n",
        "    outputs=\"text\",\n",
        "    title=\"🏡 Housing Price Category Predictor (Logistic Regression)\",\n",
        "    description=\"Enter details about the house to classify it into Low, Medium, or High price category using Logistic Regression.\"\n",
        ").launch()\n"
      ],
      "metadata": {
        "id": "wDDv7T75RWX5"
      },
      "execution_count": null,
      "outputs": []
    }
  ]
}