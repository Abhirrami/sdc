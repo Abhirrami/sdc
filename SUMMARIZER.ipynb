{
  "nbformat": 4,
  "nbformat_minor": 0,
  "metadata": {
    "colab": {
      "provenance": [],
      "authorship_tag": "ABX9TyMpFdlgx2Y5CojKiXdyu7gJ",
      "include_colab_link": true
    },
    "kernelspec": {
      "name": "python3",
      "display_name": "Python 3"
    },
    "language_info": {
      "name": "python"
    }
  },
  "cells": [
    {
      "cell_type": "markdown",
      "metadata": {
        "id": "view-in-github",
        "colab_type": "text"
      },
      "source": [
        "<a href=\"https://colab.research.google.com/github/Abhirrami/sdc/blob/main/SUMMARIZER.ipynb\" target=\"_parent\"><img src=\"https://colab.research.google.com/assets/colab-badge.svg\" alt=\"Open In Colab\"/></a>"
      ]
    },
    {
      "cell_type": "code",
      "execution_count": null,
      "metadata": {
        "id": "983a3zqIVWhZ"
      },
      "outputs": [],
      "source": [
        "from transformers import pipeline\n",
        "import gradio as gr\n",
        "\n",
        "# Load summarization pipeline\n",
        "summarizer = pipeline(\"summarization\", model=\"facebook/bart-large-cnn\")\n",
        "\n",
        "# Define function to summarize input text\n",
        "def summarize_text(text):\n",
        "    if len(text.strip()) == 0:\n",
        "        return \"Please enter some text to summarize.\"\n",
        "\n",
        "    summary = summarizer(text, max_length=130, min_length=30, do_sample=False)\n",
        "    return summary[0]['summary_text']\n",
        "\n",
        "# Build Gradio interface\n",
        "gr.Interface(\n",
        "    fn=summarize_text,\n",
        "    inputs=gr.Textbox(lines=15, label=\"Enter Text to Summarize\"),\n",
        "    outputs=gr.Textbox(label=\"Summary\"),\n",
        "    title=\"Text Summarizer\",\n",
        "    description=\"Enter a long text or article and get a concise summary using BART model.\"\n",
        ").launch()\n"
      ]
    }
  ]
}