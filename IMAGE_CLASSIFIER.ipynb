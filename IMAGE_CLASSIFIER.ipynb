{
  "nbformat": 4,
  "nbformat_minor": 0,
  "metadata": {
    "colab": {
      "provenance": [],
      "authorship_tag": "ABX9TyOjMy3FSnUaYiRetJDrGviC",
      "include_colab_link": true
    },
    "kernelspec": {
      "name": "python3",
      "display_name": "Python 3"
    },
    "language_info": {
      "name": "python"
    }
  },
  "cells": [
    {
      "cell_type": "markdown",
      "metadata": {
        "id": "view-in-github",
        "colab_type": "text"
      },
      "source": [
        "<a href=\"https://colab.research.google.com/github/Abhirrami/sdc/blob/main/IMAGE_CLASSIFIER.ipynb\" target=\"_parent\"><img src=\"https://colab.research.google.com/assets/colab-badge.svg\" alt=\"Open In Colab\"/></a>"
      ]
    },
    {
      "cell_type": "code",
      "execution_count": null,
      "metadata": {
        "id": "Ke0_qufCUpAL"
      },
      "outputs": [],
      "source": [
        "# Install dependencies (run this in Colab or local if not installed)\n",
        "!pip install -q gradio transformers torch torchvision\n",
        "import gradio as gr\n",
        "from transformers import ViTFeatureExtractor, ViTForImageClassification\n",
        "from PIL import Image\n",
        "import torch\n",
        "\n",
        "# Load pre-trained ViT model and feature extractor\n",
        "model_name = \"google/vit-base-patch16-224\"\n",
        "model = ViTForImageClassification.from_pretrained(model_name)\n",
        "feature_extractor = ViTFeatureExtractor.from_pretrained(model_name)\n",
        "\n",
        "# Classification function\n",
        "def classify_image(img):\n",
        "    # Preprocess\n",
        "    inputs = feature_extractor(images=img, return_tensors=\"pt\")\n",
        "    with torch.no_grad():\n",
        "        outputs = model(**inputs)\n",
        "    logits = outputs.logits\n",
        "    predicted_class_idx = logits.argmax(-1).item()\n",
        "    label = model.config.id2label[predicted_class_idx]\n",
        "    return f\"Predicted class: {label}\"\n",
        "\n",
        "# Gradio interface\n",
        "gr.Interface(\n",
        "    fn=classify_image,\n",
        "    inputs=gr.Image(type=\"pil\"),\n",
        "    outputs=\"text\",\n",
        "    title=\"Image Classifier\",\n",
        "    description=\"Upload an image and the model will classify it using a Vision Transformer (ViT).\"\n",
        ").launch()\n"
      ]
    }
  ]
}