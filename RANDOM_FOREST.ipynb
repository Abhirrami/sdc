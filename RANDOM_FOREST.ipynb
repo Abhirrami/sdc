{
  "nbformat": 4,
  "nbformat_minor": 0,
  "metadata": {
    "colab": {
      "provenance": [],
      "authorship_tag": "ABX9TyMYKuBnXCv0Y+JaaLmRcCsl",
      "include_colab_link": true
    },
    "kernelspec": {
      "name": "python3",
      "display_name": "Python 3"
    },
    "language_info": {
      "name": "python"
    }
  },
  "cells": [
    {
      "cell_type": "markdown",
      "metadata": {
        "id": "view-in-github",
        "colab_type": "text"
      },
      "source": [
        "<a href=\"https://colab.research.google.com/github/Abhirrami/sdc/blob/main/RANDOM_FOREST.ipynb\" target=\"_parent\"><img src=\"https://colab.research.google.com/assets/colab-badge.svg\" alt=\"Open In Colab\"/></a>"
      ]
    },
    {
      "cell_type": "code",
      "execution_count": null,
      "metadata": {
        "id": "_6_KZnddR3Yy"
      },
      "outputs": [],
      "source": [
        "from sklearn.datasets import load_iris\n",
        "from sklearn.ensemble import RandomForestClassifier\n",
        "from sklearn.model_selection import train_test_split\n",
        "from sklearn.metrics import accuracy_score\n",
        "\n",
        "# Load dataset\n",
        "iris = load_iris()\n",
        "X = iris.data\n",
        "y = iris.target\n",
        "target_names = iris.target_names\n",
        "\n",
        "# Train-test split\n",
        "X_train, X_test, y_train, y_test = train_test_split(X, y, test_size=0.3, random_state=42)\n",
        "\n",
        "# Train Random Forest\n",
        "model = RandomForestClassifier(n_estimators=100, random_state=42)\n",
        "model.fit(X_train, y_train)\n",
        "\n",
        "# Accuracy\n",
        "accuracy = accuracy_score(y_test, model.predict(X_test))\n",
        "print(f\"✅ Model trained with accuracy: {accuracy * 100:.2f}%\")\n",
        "\n",
        "# Get user input\n",
        "try:\n",
        "    print(\"\\nEnter flower measurements:\")\n",
        "    sepal_length = float(input(\"Sepal length (cm): \"))\n",
        "    sepal_width = float(input(\"Sepal width (cm): \"))\n",
        "    petal_length = float(input(\"Petal length (cm): \"))\n",
        "    petal_width = float(input(\"Petal width (cm): \"))\n",
        "\n",
        "    # Predict\n",
        "    user_input = [[sepal_length, sepal_width, petal_length, petal_width]]\n",
        "    prediction = model.predict(user_input)[0]\n",
        "    print(f\"\\n🌸 Predicted Iris species: {target_names[prediction]}\")\n",
        "\n",
        "except ValueError:\n",
        "    print(\"❌ Please enter valid numerical values.\")\n"
      ]
    }
  ]
}