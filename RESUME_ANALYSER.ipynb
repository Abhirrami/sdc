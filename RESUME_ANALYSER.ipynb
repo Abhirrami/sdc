{
  "nbformat": 4,
  "nbformat_minor": 0,
  "metadata": {
    "colab": {
      "provenance": [],
      "authorship_tag": "ABX9TyPzP3f4a1mRQbLTLnDBwQJ7",
      "include_colab_link": true
    },
    "kernelspec": {
      "name": "python3",
      "display_name": "Python 3"
    },
    "language_info": {
      "name": "python"
    }
  },
  "cells": [
    {
      "cell_type": "markdown",
      "metadata": {
        "id": "view-in-github",
        "colab_type": "text"
      },
      "source": [
        "<a href=\"https://colab.research.google.com/github/Abhirrami/sdc/blob/main/RESUME_ANALYSER.ipynb\" target=\"_parent\"><img src=\"https://colab.research.google.com/assets/colab-badge.svg\" alt=\"Open In Colab\"/></a>"
      ]
    },
    {
      "cell_type": "code",
      "execution_count": null,
      "metadata": {
        "id": "U1URlegfWR6t"
      },
      "outputs": [],
      "source": [
        "# Install necessary libraries\n",
        "!pip install -q transformers gradio langchain langchain-community\n",
        "\n",
        "# Imports\n",
        "from transformers import pipeline\n",
        "import gradio as gr\n",
        "\n",
        "# Define a Hugging Face pipeline for Named Entity Recognition (NER) to extract skills/keywords\n",
        "ner_pipeline = pipeline(\"ner\", model=\"dbmdz/bert-large-cased-finetuned-conll03-english\", tokenizer=\"dbmdz/bert-large-cased-finetuned-conll03-english\")\n",
        "\n",
        "# Function to analyze and extract key information from resume text\n",
        "def analyze_resume(resume_text):\n",
        "    # Extract Named Entities (e.g., skills, locations, organization names)\n",
        "    entities = ner_pipeline(resume_text)\n",
        "    skills = [entity['word'] for entity in entities if entity['entity'] == 'I-ORG' or entity['entity'] == 'I-LOC'] # organization or location\n",
        "    important_info = {\n",
        "        \"Skills/Keywords\": skills,\n",
        "        \"Word Count\": len(resume_text.split()),\n",
        "        \"Suggestions\": []\n",
        "    }\n",
        "\n",
        "    # Suggest improvements\n",
        "    if important_info[\"Word Count\"] < 300:\n",
        "        important_info[\"Suggestions\"].append(\"Consider expanding the content, as resumes under 300 words may appear incomplete.\")\n",
        "\n",
        "    if \"Python\" not in skills:\n",
        "        important_info[\"Suggestions\"].append(\"Consider adding Python or other relevant technical skills to improve your chances in tech roles.\")\n",
        "\n",
        "    if \"Bachelor's Degree\" not in resume_text and \"Master's Degree\" not in resume_text:\n",
        "        important_info[\"Suggestions\"].append(\"Make sure to include your educational qualifications, especially your degree.\")\n",
        "\n",
        "    # Return the extracted skills and suggestions\n",
        "    return important_info\n",
        "\n",
        "# Define Gradio interface\n",
        "def resume_interface(resume_text):\n",
        "    analysis = analyze_resume(resume_text)\n",
        "    suggestions = \"\\n\".join(analysis[\"Suggestions\"]) if analysis[\"Suggestions\"] else \"Your resume looks great!\"\n",
        "    return f\"Skills/Keywords: {', '.join(analysis['Skills/Keywords'])}\\n\\nSuggestions:\\n{suggestions}\"\n",
        "\n",
        "# Create Gradio UI\n",
        "gr.Interface(\n",
        "    fn=resume_interface,\n",
        "    inputs=gr.Textbox(lines=15, label=\"Enter Resume Text Here\"),\n",
        "    outputs=gr.Textbox(label=\"Analysis and Suggestions\"),\n",
        "    title=\"Resume Analyzer\",\n",
        "    description=\"Analyze your resume by entering the text. Get AI-powered insights and suggestions to improve it!\"\n",
        ").launch()\n"
      ]
    }
  ]
}