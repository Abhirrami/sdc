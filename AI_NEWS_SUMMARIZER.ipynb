{
  "nbformat": 4,
  "nbformat_minor": 0,
  "metadata": {
    "colab": {
      "provenance": [],
      "authorship_tag": "ABX9TyNmmvM9D670HXME0bqyI7fG",
      "include_colab_link": true
    },
    "kernelspec": {
      "name": "python3",
      "display_name": "Python 3"
    },
    "language_info": {
      "name": "python"
    }
  },
  "cells": [
    {
      "cell_type": "markdown",
      "metadata": {
        "id": "view-in-github",
        "colab_type": "text"
      },
      "source": [
        "<a href=\"https://colab.research.google.com/github/Abhirrami/sdc/blob/main/AI_NEWS_SUMMARIZER.ipynb\" target=\"_parent\"><img src=\"https://colab.research.google.com/assets/colab-badge.svg\" alt=\"Open In Colab\"/></a>"
      ]
    },
    {
      "cell_type": "code",
      "execution_count": null,
      "metadata": {
        "id": "ZoF2P6CvV4yB"
      },
      "outputs": [],
      "source": [
        "# ✅ Install required packages\n",
        "!pip install -q transformers gradio langchain langchain-community\n",
        "\n",
        "# ✅ Imports\n",
        "from transformers import AutoTokenizer, AutoModelForSeq2SeqLM, pipeline\n",
        "import gradio as gr\n",
        "\n",
        "# ✅ Load the summarization model\n",
        "model_id = \"google/pegasus-xsum\"\n",
        "\n",
        "tokenizer = AutoTokenizer.from_pretrained(model_id)\n",
        "model = AutoModelForSeq2SeqLM.from_pretrained(model_id)\n",
        "\n",
        "summarizer = pipeline(\"summarization\", model=model, tokenizer=tokenizer)\n",
        "\n",
        "# ✅ Define summarization function\n",
        "def summarize_article(article_text):\n",
        "    if not article_text.strip():\n",
        "        return \"Please enter a news article.\"\n",
        "    summary = summarizer(article_text, max_length=100, min_length=30, do_sample=False)\n",
        "    return summary[0]['summary_text']\n",
        "\n",
        "# ✅ Launch Gradio UI\n",
        "interface = gr.Interface(\n",
        "    fn=summarize_article,\n",
        "    inputs=gr.Textbox(lines=15, label=\"Paste News Article Here\"),\n",
        "    outputs=gr.Textbox(label=\"Summary\"),\n",
        "    title=\"📰 News Summarizer (No OpenAI)\",\n",
        "    description=\"Enter a news article and get a concise summary using Pegasus.\"\n",
        ")\n",
        "\n",
        "interface.launch()\n"
      ]
    }
  ]
}