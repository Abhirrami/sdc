{
  "nbformat": 4,
  "nbformat_minor": 0,
  "metadata": {
    "colab": {
      "provenance": [],
      "authorship_tag": "ABX9TyPtsHO0HReZhof5yhOnPkZ7",
      "include_colab_link": true
    },
    "kernelspec": {
      "name": "python3",
      "display_name": "Python 3"
    },
    "language_info": {
      "name": "python"
    }
  },
  "cells": [
    {
      "cell_type": "markdown",
      "metadata": {
        "id": "view-in-github",
        "colab_type": "text"
      },
      "source": [
        "<a href=\"https://colab.research.google.com/github/Abhirrami/sdc/blob/main/LINEAR_REG.ipynb\" target=\"_parent\"><img src=\"https://colab.research.google.com/assets/colab-badge.svg\" alt=\"Open In Colab\"/></a>"
      ]
    },
    {
      "cell_type": "code",
      "execution_count": null,
      "metadata": {
        "id": "uwRioA0PQq3l"
      },
      "outputs": [],
      "source": [
        "# Step 1: Import necessary libraries\n",
        "import numpy as np\n",
        "import matplotlib.pyplot as plt\n",
        "from sklearn.linear_model import LinearRegression\n",
        "\n",
        "# Step 2: Sample data (House size in sq ft vs Price in $1000s)\n",
        "X = np.array([[500], [750], [1000], [1250], [1500]])  # House sizes (input)\n",
        "y = np.array([150, 200, 250, 300, 350])               # Prices (output)\n",
        "\n",
        "# Step 3: Create and train the Linear Regression model\n",
        "model = LinearRegression()\n",
        "model.fit(X, y)\n",
        "\n",
        "# Step 4: Predict price for a new house size\n",
        "new_size = np.array([[1100]])\n",
        "predicted_price = model.predict(new_size)\n",
        "\n",
        "print(f\"📈 Predicted price for 1100 sq ft house: ${predicted_price[0]*1000:.2f}\")\n",
        "\n",
        "# Step 5: Visualize the data and regression line\n",
        "plt.scatter(X, y, color='blue', label=\"Actual Data\")\n",
        "plt.plot(X, model.predict(X), color='red', label=\"Regression Line\")\n",
        "plt.xlabel(\"House Size (sq ft)\")\n",
        "plt.ylabel(\"Price ($1000s)\")\n",
        "plt.title(\"Linear Regression: House Price Prediction\")\n",
        "plt.legend()\n",
        "plt.grid(True)\n",
        "plt.show()\n"
      ]
    },
    {
      "cell_type": "code",
      "source": [
        "import numpy as np\n",
        "from sklearn.linear_model import LinearRegression\n",
        "\n",
        "# Training data\n",
        "X = np.array([[500], [750], [1000], [1250], [1500]])\n",
        "y = np.array([150, 200, 250, 300, 350])\n",
        "\n",
        "# Train the model\n",
        "model = LinearRegression()\n",
        "model.fit(X, y)\n",
        "\n",
        "# Get user input\n",
        "try:\n",
        "    user_input = float(input(\"Enter the house size in square feet: \"))\n",
        "    user_data = np.array([[user_input]])\n",
        "\n",
        "    # Predict\n",
        "    prediction = model.predict(user_data)\n",
        "    print(f\"📈 Predicted price for {user_input} sq ft house: ${prediction[0] * 1000:.2f}\")\n",
        "except ValueError:\n",
        "    print(\"Please enter a valid number.\")\n"
      ],
      "metadata": {
        "id": "dABrnKtcQ2bw"
      },
      "execution_count": null,
      "outputs": []
    },
    {
      "cell_type": "code",
      "source": [
        "# Install required libraries\n",
        "!pip install -q scikit-learn gradio\n",
        "\n",
        "import gradio as gr\n",
        "from sklearn.linear_model import LinearRegression\n",
        "import numpy as np\n",
        "\n",
        "# --- Training Sample Data (Synthetic) ---\n",
        "# [Bedrooms, Bathrooms, Square Footage, House Age]\n",
        "X = np.array([\n",
        "    [2, 1, 800, 20],\n",
        "    [3, 2, 1200, 10],\n",
        "    [4, 3, 1600, 5],\n",
        "    [3, 1, 1000, 15],\n",
        "    [5, 4, 2500, 2],\n",
        "    [2, 1, 750, 30]\n",
        "])\n",
        "\n",
        "# Prices in $1000s\n",
        "y = np.array([150, 250, 350, 200, 500, 130])\n",
        "\n",
        "# Train the model\n",
        "model = LinearRegression()\n",
        "model.fit(X, y)\n",
        "\n",
        "# --- Prediction Function ---\n",
        "def predict_price(bedrooms, bathrooms, sqft, age):\n",
        "    input_data = np.array([[bedrooms, bathrooms, sqft, age]])\n",
        "    predicted_price = model.predict(input_data)[0]\n",
        "    return f\"Estimated Price: ${predicted_price:.2f}K\"\n",
        "\n",
        "# --- Gradio UI ---\n",
        "inputs = [\n",
        "    gr.Number(label=\"Bedrooms\", value=3),\n",
        "    gr.Number(label=\"Bathrooms\", value=2),\n",
        "    gr.Number(label=\"Square Footage\", value=1200),\n",
        "    gr.Number(label=\"House Age (years)\", value=10)\n",
        "]\n",
        "\n",
        "gr.Interface(\n",
        "    fn=predict_price,\n",
        "    inputs=inputs,\n",
        "    outputs=\"text\",\n",
        "    title=\"🏡 Housing Price Predictor (Linear Regression)\",\n",
        "    description=\"Enter details about the house to get an estimated price using Linear Regression.\"\n",
        ").launch()\n"
      ],
      "metadata": {
        "id": "ah7HPLUOQ8ty"
      },
      "execution_count": null,
      "outputs": []
    }
  ]
}