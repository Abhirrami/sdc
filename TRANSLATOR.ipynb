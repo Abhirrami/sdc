{
  "nbformat": 4,
  "nbformat_minor": 0,
  "metadata": {
    "colab": {
      "provenance": [],
      "authorship_tag": "ABX9TyNUXmJF61A+c6fml+OJ2wjp",
      "include_colab_link": true
    },
    "kernelspec": {
      "name": "python3",
      "display_name": "Python 3"
    },
    "language_info": {
      "name": "python"
    }
  },
  "cells": [
    {
      "cell_type": "markdown",
      "metadata": {
        "id": "view-in-github",
        "colab_type": "text"
      },
      "source": [
        "<a href=\"https://colab.research.google.com/github/Abhirrami/sdc/blob/main/TRANSLATOR.ipynb\" target=\"_parent\"><img src=\"https://colab.research.google.com/assets/colab-badge.svg\" alt=\"Open In Colab\"/></a>"
      ]
    },
    {
      "cell_type": "code",
      "execution_count": null,
      "metadata": {
        "id": "KH5_VVg3VHNs"
      },
      "outputs": [],
      "source": [
        "!pip install -q transformers gradio sentencepiece\n",
        "\n",
        "from transformers import MarianMTModel, MarianTokenizer\n",
        "import gradio as gr\n",
        "\n",
        "# Mapping between display names and model language codes\n",
        "lang_options = {\n",
        "    \"English\": \"en\",\n",
        "    \"French\": \"fr\",\n",
        "    \"German\": \"de\",\n",
        "    \"Spanish\": \"es\",\n",
        "    \"Russian\": \"ru\",\n",
        "    \"Hindi\": \"hi\",\n",
        "    \"Italian\": \"it\",\n",
        "    \"Chinese\": \"zh\",\n",
        "    \"Japanese\": \"ja\"\n",
        "}\n",
        "\n",
        "# Function to load translation model dynamically\n",
        "def load_translation_model(src_lang_code, tgt_lang_code):\n",
        "    model_name = f\"Helsinki-NLP/opus-mt-{src_lang_code}-{tgt_lang_code}\"\n",
        "    tokenizer = MarianTokenizer.from_pretrained(model_name)\n",
        "    model = MarianMTModel.from_pretrained(model_name)\n",
        "    return tokenizer, model\n",
        "\n",
        "# Translation function\n",
        "def translate_text(text, src_lang, tgt_lang):\n",
        "    if src_lang == tgt_lang:\n",
        "        return text\n",
        "\n",
        "    src_code = lang_options.get(src_lang)\n",
        "    tgt_code = lang_options.get(tgt_lang)\n",
        "\n",
        "    try:\n",
        "        tokenizer, model = load_translation_model(src_code, tgt_code)\n",
        "        inputs = tokenizer(text, return_tensors=\"pt\", padding=True, truncation=True)\n",
        "        translated_tokens = model.generate(**inputs, max_length=512)\n",
        "        translated_text = tokenizer.decode(translated_tokens[0], skip_special_tokens=True)\n",
        "        return translated_text\n",
        "    except Exception as e:\n",
        "        return f\"Translation failed: {str(e)}\"\n",
        "\n",
        "# Gradio Interface\n",
        "gr.Interface(\n",
        "    fn=translate_text,\n",
        "    inputs=[\n",
        "        gr.Textbox(label=\"Enter Text to Translate\"),\n",
        "        gr.Dropdown(choices=list(lang_options.keys()), label=\"From Language\", value=\"English\"),\n",
        "        gr.Dropdown(choices=list(lang_options.keys()), label=\"To Language\", value=\"French\")\n",
        "    ],\n",
        "    outputs=gr.Textbox(label=\"Translated Text\"),\n",
        "    title=\"Google Translator (Hugging Face + Gradio)\",\n",
        "    description=\"Translate between multiple languages using Hugging Face MarianMT models.\"\n",
        ").launch()\n"
      ]
    }
  ]
}